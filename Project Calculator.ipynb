{
 "cells": [
  {
   "cell_type": "markdown",
   "id": "33475e97",
   "metadata": {},
   "source": [
    "# Project Title: Calculator"
   ]
  },
  {
   "cell_type": "markdown",
   "id": "4c42a3f9",
   "metadata": {},
   "source": [
    "---"
   ]
  },
  {
   "cell_type": "markdown",
   "id": "e6997801",
   "metadata": {},
   "source": [
    "#### Team Members:\n",
    "\n",
    "    1. Yishak Addis Dessalegne (yishak.h.addis@gmail.com)\n",
    "    2. Bikram Nepal (bikram7nepal7@gmail.com)\n",
    "    3. Abdul Rehman (abdulrehman23hafiz@gmail.com)\n",
    "    4. Bandula Yedum Sampath Karunarathne Jayasekara Mudiyanselage Rambukpothe Gedara (sampathtdn@gmail.com)\n",
    "    5. Anas Mohamed Ahmed Gomaa Abdelrahim (anasgomaa@hotmail.com)"
   ]
  },
  {
   "cell_type": "markdown",
   "id": "e6c75fcf",
   "metadata": {},
   "source": [
    "---"
   ]
  },
  {
   "cell_type": "markdown",
   "id": "b83b7926",
   "metadata": {},
   "source": [
    "#### Description of the project: \n",
    "\n",
    "The objective of this project is to build a program that can be used as a basic calculator. This program enables the user to choose from a menu the basic operations: addition, subtraction, multiplication, division, second power, square root, and exit. \n",
    "\n",
    "After choosing an operation from the list (except the \"exit option\"), the user is requested to input the number (or numbers) to proceed with the arithmetic calculation. \n",
    "\n",
    "In the event that the operator enters a \"-\" value for square root calculation, the program enables an error message while returning to a new operation. \n",
    "\n",
    "Similarly, if the user enters \"0\" as the second number (denominator) of the division operation, the program will display an error message while returning to a new operation. \n",
    "\n",
    "The program continuously requests the desired operation until the user selects the \"Exit\" option in the menu.  "
   ]
  },
  {
   "cell_type": "markdown",
   "id": "d483cfb1",
   "metadata": {},
   "source": [
    "---"
   ]
  },
  {
   "cell_type": "code",
   "execution_count": null,
   "id": "9c158dd2",
   "metadata": {},
   "outputs": [
    {
     "name": "stdout",
     "output_type": "stream",
     "text": [
      "  \n",
      "Menu:\n",
      "1. Addition\n",
      "2. Subtraction\n",
      "3. Multiplication\n",
      "4. Division\n",
      "5. Second Power\n",
      "6. Square Root\n",
      "7. Exit\n",
      "  \n"
     ]
    }
   ],
   "source": [
    "# Calling math library square root function\n",
    "\n",
    "from math import sqrt   \n",
    "\n",
    "# Defining the needed functions to run the calculator program\n",
    "\n",
    "def add(x, y):\n",
    "    return x + y\n",
    "def subtract(x, y):\n",
    "    return x - y\n",
    "def multiply(x, y):\n",
    "    return x * y\n",
    "def divide(x, y):\n",
    "    if y == 0:\n",
    "        return \"Cannot divide by zero!\"   # Adding error message\n",
    "    else:\n",
    "        return x / y\n",
    "def power(x):\n",
    "    return x ** 2\n",
    "def square_root(x):\n",
    "    if x < 0:\n",
    "        return \"Cannot calculate square root of a negative number!\"  # Adding error message\n",
    "    else:\n",
    "        return sqrt(x)\n",
    "\n",
    "# User Menu \n",
    "\n",
    "def print_menu():\n",
    "    print(\"  \")  # Space for better visibility\n",
    "    print(\"Menu:\")\n",
    "    print(\"1. Addition\")\n",
    "    print(\"2. Subtraction\")\n",
    "    print(\"3. Multiplication\")\n",
    "    print(\"4. Division\")\n",
    "    print(\"5. Second Power\")\n",
    "    print(\"6. Square Root\")\n",
    "    print(\"7. Exit\")\n",
    "    print(\"  \")  # Space for better visibility\n",
    "\n",
    "def get_user_choice():\n",
    "    return int(input(\"Enter Function Number: \"))  # Function selection \n",
    "\n",
    "def get_numbers():\n",
    "    x = float(input(\"Enter first number: \"))  # First number data entry\n",
    "    y = float(input(\"Enter second number: \")) # Second number data entry\n",
    "    return x, y\n",
    "\n",
    "while True:    # To choose the desired operation over and over again until the user chooses to quit using it. \n",
    "    print_menu()\n",
    "    choice = get_user_choice()\n",
    "\n",
    "    if choice == 7:  # To break the loop and close the program \n",
    "        print(\"shutdown...\")\n",
    "        break\n",
    "# Calling the pre-defined function to perform the calculation according to the user selection\n",
    "    if choice == 6:\n",
    "        x = float(input(\"Enter the number: \")) \n",
    "        result = square_root(x)\n",
    "    elif choice == 5:\n",
    "        x = float(input(\"Enter the number: \"))\n",
    "        result = power(x)\n",
    "    else:\n",
    "        x, y = get_numbers()\n",
    "        if choice == 1:\n",
    "            result = add(x, y)\n",
    "        elif choice == 2:\n",
    "            result = subtract(x, y)\n",
    "        elif choice == 3:\n",
    "            result = multiply(x, y)\n",
    "        elif choice == 4:\n",
    "            result = divide(x, y)\n",
    "\n",
    "    print(\"  \")  # Space for better visibility\n",
    "    print(\"Result:\", result)"
   ]
  },
  {
   "cell_type": "code",
   "execution_count": null,
   "id": "92855ee8",
   "metadata": {},
   "outputs": [],
   "source": []
  },
  {
   "cell_type": "code",
   "execution_count": null,
   "id": "960a01d6",
   "metadata": {},
   "outputs": [],
   "source": []
  },
  {
   "cell_type": "code",
   "execution_count": null,
   "id": "00757efe",
   "metadata": {},
   "outputs": [],
   "source": []
  }
 ],
 "metadata": {
  "kernelspec": {
   "display_name": "Python 3 (ipykernel)",
   "language": "python",
   "name": "python3"
  },
  "language_info": {
   "codemirror_mode": {
    "name": "ipython",
    "version": 3
   },
   "file_extension": ".py",
   "mimetype": "text/x-python",
   "name": "python",
   "nbconvert_exporter": "python",
   "pygments_lexer": "ipython3",
   "version": "3.11.5"
  }
 },
 "nbformat": 4,
 "nbformat_minor": 5
}
